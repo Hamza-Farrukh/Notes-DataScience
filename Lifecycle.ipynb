{
 "cells": [
  {
   "cell_type": "markdown",
   "id": "e058ee30",
   "metadata": {},
   "source": [
    "## Data Science Lifecycle\n",
    "    - Problem Understanding\n",
    "    - Data Collection\n",
    "### Preprocessing\n",
    "    - Data Cleaning and Preparation\n",
    "    - Exploratory Data Analysis (EDA)\n",
    "    - Feature Engineering and Selection\n",
    "### Machine Learning\n",
    "    - Model Creation\n",
    "    - Model Tuning\n",
    "### Results\n",
    "    - Model Deployment\n",
    "    - Data Visualization\n",
    "    - Reports"
   ]
  },
  {
   "cell_type": "markdown",
   "id": "aecfb30b",
   "metadata": {},
   "source": [
    "![Lifecycle](./Images/Lifecycle.png)\n",
    "## Machine Learning Preprocessing\n",
    "### Cleaning\n",
    "    - Missing Values\n",
    "    - Outliers\n",
    "### Dimensions\n",
    "    - Imbalanced Data\n",
    "    - Curse of Dimentionality (No. of features more than required)\n",
    "### Transformation\n",
    "    - Encoding\n",
    "### Scaling\n",
    "    - "
   ]
  },
  {
   "cell_type": "markdown",
   "id": "7f403aaa",
   "metadata": {},
   "source": [
    "## Machine Learning Preprocessing\n",
    "![Preprocessing](./Images/Preprocessing.jpg)"
   ]
  },
  {
   "cell_type": "markdown",
   "id": "d7863f30",
   "metadata": {},
   "source": [
    "## Text Preprocessing\n",
    "![Text_Preprocessing](./Images/text_preprocessing.png)"
   ]
  },
  {
   "cell_type": "markdown",
   "id": "fdf1fe19",
   "metadata": {},
   "source": [
    "## Image Preprocessing\n",
    "- Resize\n",
    "- Orientation   \n",
    "\n",
    "## Image Augmentation\n",
    "- Grayscale\n",
    "- Random Flips\n",
    "- Random Rotation\n",
    "- Random Brightness\n",
    "- Random Noise"
   ]
  }
 ],
 "metadata": {
  "kernelspec": {
   "display_name": "Python 3 (ipykernel)",
   "language": "python",
   "name": "python3"
  },
  "language_info": {
   "codemirror_mode": {
    "name": "ipython",
    "version": 3
   },
   "file_extension": ".py",
   "mimetype": "text/x-python",
   "name": "python",
   "nbconvert_exporter": "python",
   "pygments_lexer": "ipython3",
   "version": "3.10.6"
  }
 },
 "nbformat": 4,
 "nbformat_minor": 5
}
